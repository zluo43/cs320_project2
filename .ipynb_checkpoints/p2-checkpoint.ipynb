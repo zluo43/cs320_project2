{
 "cells": [
  {
   "cell_type": "code",
   "execution_count": 107,
   "id": "clinical-poker",
   "metadata": {},
   "outputs": [
    {
     "name": "stdout",
     "output_type": "stream",
     "text": [
      "The autoreload extension is already loaded. To reload it, use:\n",
      "  %reload_ext autoreload\n"
     ]
    }
   ],
   "source": [
    "# project: p2\n",
    "# submitter: zluo43\n",
    "#partner: none\n",
    "#hours: 72\n",
    "\n",
    "\n",
    "\n"
   ]
  },
  {
   "cell_type": "code",
   "execution_count": 108,
   "id": "concerned-greeting",
   "metadata": {},
   "outputs": [
    {
     "name": "stdout",
     "output_type": "stream",
     "text": [
      "The autoreload extension is already loaded. To reload it, use:\n",
      "  %reload_ext autoreload\n"
     ]
    }
   ],
   "source": [
    "from tree import *\n",
    "%load_ext autoreload\n",
    "%autoreload 2"
   ]
  },
  {
   "cell_type": "code",
   "execution_count": 2,
   "id": "olive-finnish",
   "metadata": {},
   "outputs": [],
   "source": [
    "from io import TextIOWrapper\n",
    "from zipfile import ZipFile\n",
    "import json\n",
    "import csv"
   ]
  },
  {
   "cell_type": "code",
   "execution_count": 3,
   "id": "expired-board",
   "metadata": {},
   "outputs": [],
   "source": [
    "#ZippedCSVReader Class\n",
    "class ZippedCSVReader():\n",
    "    def __init__(self,path):\n",
    "        self.path = path\n",
    "        self.paths = []\n",
    "        self.l=[]\n",
    "      \n",
    "        with ZipFile(path) as zf:\n",
    "            for info in zf.infolist():\n",
    "                self.paths.append(info.filename)\n",
    "    \n",
    "    def __str__(self):\n",
    "        return '{}'.format(self.paths)\n",
    "    \n",
    "\n",
    "        \n",
    "    def load_json(self,file):\n",
    "            with ZipFile(self.path,'r') as zf:\n",
    "                with zf.open(file,'r') as f:\n",
    "                    j_read = json.loads(f.read()) \n",
    "            return j_read\n",
    "\n",
    "    def rows(self,file = None):\n",
    "        #l=[]\n",
    "        if file is None:  \n",
    "        #find all csv files \n",
    "            self.l=[]\n",
    "            for file in self.paths:\n",
    "                        with ZipFile(self.path) as zf:\n",
    "                            if file.endswith('.csv'):        \n",
    "                                with zf.open(file,'r') as f:\n",
    "                                    tio = csv.DictReader(TextIOWrapper(f))\n",
    "                                    for row in tio:\n",
    "                                        self.l.append(row)\n",
    "            #return self.l\n",
    "            return json.loads(json.dumps(self.l))\n",
    "        \n",
    "        else:\n",
    "            self.l=[]\n",
    "            with ZipFile(self.path) as zf:\n",
    "                        if file.endswith('.csv'):        \n",
    "                            with zf.open(file,'r') as f:\n",
    "                                tio = csv.DictReader(TextIOWrapper(f))\n",
    "                                for row in tio:\n",
    "                                    self.l.append(row)\n",
    "            #return self.l\n",
    "            return json.loads(json.dumps(self.l))     #get rid of ordered dict\n",
    "     \n",
    "        \n",
    "\n",
    "           "
   ]
  },
  {
   "cell_type": "code",
   "execution_count": 4,
   "id": "prostate-dealing",
   "metadata": {},
   "outputs": [
    {
     "name": "stdout",
     "output_type": "stream",
     "text": [
      "['il.csv', 'la.csv', 'wi.csv']\n"
     ]
    }
   ],
   "source": [
    "tree_reader = ZippedCSVReader(\"trees.zip\")\n",
    "\n",
    "data_reader = ZippedCSVReader(\"mini.zip\")\n",
    "\n",
    "print (data_reader.paths)\n",
    "\n"
   ]
  },
  {
   "cell_type": "code",
   "execution_count": 5,
   "id": "classical-stylus",
   "metadata": {},
   "outputs": [
    {
     "name": "stdout",
     "output_type": "stream",
     "text": [
      "dict_keys(['field', 'threshold', 'left', 'right'])\n",
      "\n",
      "{'as_of_year': '2017', 'respondent_id': '33-0975529', 'agency_name': 'Department of Housing and Urban Development', 'agency_abbr': 'HUD', 'agency_code': '7', 'loan_type_name': 'VA-guaranteed', 'loan_type': '3', 'property_type_name': 'One-to-four family dwelling (other than manufactured housing)', 'property_type': '1', 'loan_purpose_name': 'Refinancing', 'loan_purpose': '3', 'owner_occupancy_name': 'Owner-occupied as a principal dwelling', 'owner_occupancy': '1', 'loan_amount_000s': '165', 'preapproval_name': 'Not applicable', 'preapproval': '3', 'action_taken_name': 'Loan originated', 'action_taken': '1', 'state_name': 'Wisconsin', 'state_abbr': 'WI', 'state_code': '55', 'county_name': 'Outagamie County', 'county_code': '87.0', 'applicant_ethnicity_name': 'Not Hispanic or Latino', 'applicant_ethnicity': '2', 'co_applicant_ethnicity_name': 'Not Hispanic or Latino', 'co_applicant_ethnicity': '2', 'applicant_race_name_1': 'White', 'applicant_race_1': '5', 'applicant_race_name_2': '', 'applicant_race_2': '', 'applicant_race_name_3': '', 'applicant_race_3': '', 'co_applicant_race_name_1': 'White', 'co_applicant_race_1': '5', 'co_applicant_race_name_2': '', 'co_applicant_race_2': '', 'applicant_sex_name': 'Male', 'applicant_sex': '1', 'co_applicant_sex_name': 'Female', 'co_applicant_sex': '2', 'applicant_income_000s': '57', 'purchaser_type_name': 'Life insurance company, credit union, mortgage bank, or finance company', 'purchaser_type': '7', 'denial_reason_name_1': '', 'denial_reason_1': '', 'denial_reason_name_2': '', 'denial_reason_2': '', 'population': '5765.0', 'minority_population': '24', 'hud_median_family_income': '74700'}\n",
      "\n",
      "60\n"
     ]
    }
   ],
   "source": [
    "tree = tree_reader.load_json(\"simple.json\")\n",
    "print(tree.keys())\n",
    "\n",
    "dict_list = data_reader.rows(\"wi.csv\")\n",
    "print()\n",
    "print(dict_list[0])\n",
    "\n",
    "dict_list = data_reader.rows()\n",
    "print()\n",
    "print(len(dict_list))"
   ]
  },
  {
   "cell_type": "code",
   "execution_count": 6,
   "id": "sized-rings",
   "metadata": {},
   "outputs": [],
   "source": [
    "#Loan Class\n",
    "class Loan:\n",
    "    def __init__(self, amount, purpose, race, income, decision):\n",
    "        self.d={}\n",
    "        self.d['amount']=self.amount=amount\n",
    "        self.d['purpose']=self.purpose=purpose\n",
    "        self.d['race']=self.race=race\n",
    "        self.d['income']=self.income=income\n",
    "        self.d['decision']=self.decision=decision\n",
    "\n",
    "    def __repr__(self):\\\n",
    "        #return 'Loan [{},{},{},{},{}]'.format(self.amount,\\'self.purpose\\',\\'self.race\\',\\'self.income\\',\\'self.decision\\')\n",
    "        #not sure why wouldn't work \n",
    "        return f'Loan({self.amount}, \\'{self.purpose}\\', \\'{self.race}\\', {self.income}, \\'{self.decision}\\')'\n",
    "     \n",
    "    \n",
    "          \n",
    "    def __getitem__(self, lookup):\n",
    "        val=self.d.get(lookup)\n",
    "        if lookup in self.d.values():\n",
    "            return 1\n",
    "        elif lookup in self.d:\n",
    "            return val\n",
    "        else:\n",
    "            return 0\n",
    "            "
   ]
  },
  {
   "cell_type": "code",
   "execution_count": 7,
   "id": "massive-football",
   "metadata": {},
   "outputs": [
    {
     "data": {
      "text/plain": [
       "\"Loan(40, 'Home improvement', 'Asian', 120, 'approve')\""
      ]
     },
     "execution_count": 7,
     "metadata": {},
     "output_type": "execute_result"
    }
   ],
   "source": [
    "loan = Loan(40, \"Home improvement\", \"Asian\", 120, \"approve\")\n",
    "repr(loan)\n"
   ]
  },
  {
   "cell_type": "code",
   "execution_count": 8,
   "id": "virgin-summer",
   "metadata": {},
   "outputs": [
    {
     "data": {
      "text/plain": [
       "40"
      ]
     },
     "execution_count": 8,
     "metadata": {},
     "output_type": "execute_result"
    }
   ],
   "source": [
    "loan[\"amount\"]"
   ]
  },
  {
   "cell_type": "code",
   "execution_count": null,
   "id": "destroyed-liability",
   "metadata": {},
   "outputs": [],
   "source": [
    "\n"
   ]
  },
  {
   "cell_type": "code",
   "execution_count": 9,
   "id": "distant-business",
   "metadata": {},
   "outputs": [
    {
     "data": {
      "text/plain": [
       "'Home improvement'"
      ]
     },
     "execution_count": 9,
     "metadata": {},
     "output_type": "execute_result"
    }
   ],
   "source": [
    "loan[\"purpose\"]"
   ]
  },
  {
   "cell_type": "code",
   "execution_count": 10,
   "id": "partial-topic",
   "metadata": {},
   "outputs": [
    {
     "data": {
      "text/plain": [
       "1"
      ]
     },
     "execution_count": 10,
     "metadata": {},
     "output_type": "execute_result"
    }
   ],
   "source": [
    "loan[\"Asian\"]"
   ]
  },
  {
   "cell_type": "code",
   "execution_count": 11,
   "id": "sufficient-footage",
   "metadata": {},
   "outputs": [
    {
     "data": {
      "text/plain": [
       "0"
      ]
     },
     "execution_count": 11,
     "metadata": {},
     "output_type": "execute_result"
    }
   ],
   "source": [
    "loan[\"Refinance\"]"
   ]
  },
  {
   "cell_type": "code",
   "execution_count": 7,
   "id": "promising-sample",
   "metadata": {},
   "outputs": [
    {
     "data": {
      "text/plain": [
       "['CFPB', 'FDIC', 'FRS', 'HUD', 'NCUA', 'OCC']"
      ]
     },
     "execution_count": 7,
     "metadata": {},
     "output_type": "execute_result"
    }
   ],
   "source": [
    "#Get bank names\n",
    "reader = ZippedCSVReader('loans.zip')\n",
    "\n",
    "\n",
    "def get_bank_names(reader):\n",
    "    l=[]\n",
    "    for i in reader.rows():\n",
    "        l.append(i.get('agency_abbr'))\n",
    "    return sorted(set(l)) # using set() to remove duplicated from list  (internet)\n",
    " \n",
    "names = get_bank_names(reader) # should be sorted alphabetically\n",
    "names"
   ]
  },
  {
   "cell_type": "code",
   "execution_count": 35,
   "id": "shared-lightweight",
   "metadata": {},
   "outputs": [],
   "source": [
    "#Bank Class\n",
    "#b = Bank(name, reader)\n",
    "#tree_reader = ZippedCSVReader(\"trees.zip\")\n",
    "\n",
    "#data_reader = ZippedCSVReader(\"mini.zip\")\n",
    "\n",
    "#Bank is doing two things here: (1) converting dict rows to Loan objects, \n",
    "#and (2) filtering to rows where agency_abbr is \"NCUA\". As in ZippedCSVReader.rows (which Bank uses), \n",
    "#loans should return the list of loan objects. If None is passed for the bank name,\n",
    "#loans() should return Loan objects for all rows in the zip file.\n",
    "\n",
    "class Bank:\n",
    "    def __init__(self,name=None,reader=None):\n",
    "        self.name=name\n",
    "        self.row=reader.rows()      #reader=zippedreader(sv)\n",
    "    \n",
    "    \n",
    "\n",
    "       \n",
    "        \n",
    "        \n",
    "        \n",
    "    \n",
    "    \n",
    "    def loans(self):\n",
    "        emp_l=[]\n",
    "        if self.name is not None:\n",
    "            for i in self.row:\n",
    "                #print (i)\n",
    "                #break\n",
    "                if self.name==i.get('agency_abbr'):\n",
    "                    am=int(i.get('loan_amount_000s') if str(i.get('loan_amount_000s')).strip() !='' else 0)\n",
    "                    pur=i.get('loan_purpose_name')\n",
    "                    ra=i.get('applicant_race_name_1')\n",
    "                    inc=int(i.get('applicant_income_000s') if str(i.get('applicant_income_000s')).strip() != '' else 0)\n",
    "                    deci= 'approve' if i.get('actiona_taken')=='1' else 'deny'     \n",
    "                    info=Loan(am,pur,ra,inc,deci)\n",
    "                    emp_l.append(info)\n",
    "                        \n",
    "            return emp_l\n",
    "        \n",
    "        else:\n",
    "            for i in self.row:\n",
    "                am=int(i.get('loan_amount_000s') if str(i.get('loan_amount_000s')).strip() !='' else 0)\n",
    "                pur=i.get('loan_purpose_name')\n",
    "                ra=i.get('applicant_race_name_1')\n",
    "                inc=int(i.get('applicant_income_000s') if str(i.get('applicant_income_000s')).strip() != '' else 0)\n",
    "                deci= 'approve' if i.get('actiona_taken')=='1' else 'deny'     \n",
    "                info=Loan(am,pur,ra,inc,deci)\n",
    "                emp_l.append(info)\n",
    "            return emp_l\n",
    "\n",
    "        \n",
    "\n",
    "\n",
    "     \n",
    " \n",
    "    "
   ]
  },
  {
   "cell_type": "code",
   "execution_count": 36,
   "id": "romantic-growth",
   "metadata": {},
   "outputs": [
    {
     "name": "stdout",
     "output_type": "stream",
     "text": [
      "Loan(94, 'Refinancing', 'Information not provided by applicant in mail, Internet, or telephone application', 71, 'deny')\n",
      "Loan(55, 'Home purchase', 'White', 41, 'deny')\n",
      "Loan(20, 'Refinancing', 'Black or African American', 41, 'deny')\n",
      "Loan(22, 'Refinancing', 'White', 36, 'deny')\n",
      "Loan(175, 'Refinancing', 'White', 70, 'deny')\n",
      "Loan(191, 'Home purchase', 'Information not provided by applicant in mail, Internet, or telephone application', 68, 'deny')\n",
      "Loan(82, 'Refinancing', 'White', 40, 'deny')\n"
     ]
    }
   ],
   "source": [
    "b = Bank(\"NCUA\", data_reader)\n",
    "for loan in b.loans():\n",
    "    print(loan) # loan is of type Loan\n",
    "#b.loans()\n"
   ]
  },
  {
   "cell_type": "code",
   "execution_count": 38,
   "id": "italic-farming",
   "metadata": {},
   "outputs": [],
   "source": [
    "#SimplePredictor\n",
    "\n",
    "class SimplePredictor:\n",
    "    def __init__(self):\n",
    "        self.approve_count = 0\n",
    "        self.deny_count = 0\n",
    "        \n",
    "    def predict(self, loan):\n",
    "        if isinstance(loan,Loan):\n",
    "            p= loan[\"purpose\"]\n",
    "            if p== 'Refinancing':\n",
    "                self.approve_count += 1\n",
    "                return True\n",
    "            else: \n",
    "                self.deny_count += 1\n",
    "                return False\n",
    "       \n",
    "        \n",
    "    def get_approved(self):\n",
    "        return self.approve_count\n",
    "\n",
    "    def get_denied(self):\n",
    "        return self.deny_count\n",
    "        "
   ]
  },
  {
   "cell_type": "code",
   "execution_count": 39,
   "id": "handled-degree",
   "metadata": {},
   "outputs": [
    {
     "name": "stdout",
     "output_type": "stream",
     "text": [
      "Loan(175, 'Refinancing', 'White', 70, 'approve') predict: True\n",
      "approved: 1 denied 0\n",
      "Loan(145, 'Home purchase', 'White', 37, 'deny') predict: False\n",
      "approved: 1 denied 1\n",
      "Loan(200, 'Home purchase', 'White', 95, 'approve') predict: False\n",
      "approved: 1 denied 2\n",
      "Loan(414, 'Home purchase', 'White', 300, 'approve') predict: False\n",
      "approved: 1 denied 3\n",
      "Loan(22, 'Refinancing', 'White', 36, '1') predict: True\n",
      "approved: 2 denied 3\n"
     ]
    }
   ],
   "source": [
    "spred = SimplePredictor()\n",
    "my_loans = [Loan(175, 'Refinancing', 'White', 70, 'approve'),\n",
    "            Loan(145, 'Home purchase', 'White', 37, 'deny'),\n",
    "            Loan(200, 'Home purchase', 'White', 95, 'approve'),\n",
    "            Loan(414, 'Home purchase', 'White', 300, 'approve'),\n",
    "            Loan(22, 'Refinancing', 'White', 36, '1')]\n",
    "\n",
    "for loan in my_loans:\n",
    "    print(loan, 'predict:', spred.predict(loan))\n",
    "    print('approved:', spred.get_approved(), 'denied', spred.get_denied())"
   ]
  },
  {
   "cell_type": "code",
   "execution_count": 90,
   "id": "narrative-kentucky",
   "metadata": {},
   "outputs": [],
   "source": [
    "#DTree Class\n",
    "\n",
    "class DTree(SimplePredictor):\n",
    "    def __init__(self, nodes):\n",
    "         # TODO: call parent constructor\n",
    "        super().__init__() #call the correct next parent class function in the Method Resolution Order (MRO)\n",
    "        # a dict with keys: field, threshold, left, right\n",
    "        # left and right, if set, refer to similar dicts\n",
    "        self.root = nodes\n",
    "\n",
    "    def dump(self, node=None, indent=0):\n",
    "        if node == None:\n",
    "            node = self.root\n",
    "        if node[\"field\"] == \"class\":\n",
    "            line = \"class=\" + str(node[\"threshold\"])\n",
    "        else:\n",
    "            line = node[\"field\"] + \" <= \" + str(node[\"threshold\"])\n",
    "        print(\"  \" * indent + line)\n",
    "        if node[\"left\"] != None:\n",
    "            self.dump(node[\"left\"], indent + 1)\n",
    "        if node[\"right\"] != None:\n",
    "            self.dump(node[\"right\"], indent + 1)\n",
    "            \n",
    "    def node_count(self,nodes = None):\n",
    "        if nodes != None:\n",
    "            if nodes[\"left\"] == None:\n",
    "                return 1\n",
    "            elif nodes[\"right\"] == None:\n",
    "                return 1\n",
    "            else:\n",
    "                return self.node_count(nodes[\"left\"]) + self.node_count(nodes[\"right\"]) + 1\n",
    "        else:\n",
    "            return self.node_count(self.root)\n",
    "    \n",
    "    def predict(self,loan,tree = None):\n",
    "        \n",
    "        if tree == None:\n",
    "            tree = self.root\n",
    "            \n",
    "        if tree['field'] == 'class':\n",
    "            if tree['threshold'] == 1:\n",
    "                self.approve_count += 1\n",
    "                return True\n",
    "\n",
    "            else:\n",
    "                self.deny_count += 1\n",
    "                return False\n",
    "        \n",
    "        if loan[tree['field']] <= tree['threshold']:\n",
    "            return self.predict(loan,tree['left'])\n",
    "        else:\n",
    "            return self.predict(loan,tree['right'])         "
   ]
  },
  {
   "cell_type": "code",
   "execution_count": 74,
   "id": "military-buyer",
   "metadata": {},
   "outputs": [
    {
     "name": "stdout",
     "output_type": "stream",
     "text": [
      "amount <= 200\n",
      "  income <= 35\n",
      "    class=0\n",
      "    class=1\n",
      "  income <= 70\n",
      "    class=0\n",
      "    class=1\n"
     ]
    }
   ],
   "source": [
    "node_dicts = {\n",
    "    \"field\": \"amount\",\n",
    "    \"threshold\": 200,\n",
    "    \"left\": \n",
    "        {\n",
    "        \"field\": \"income\",\n",
    "        \"threshold\": 35,\n",
    "        \"left\": \n",
    "            {\n",
    "            \"field\": \"class\",\n",
    "            \"threshold\": 0,\n",
    "            \"left\": None,\n",
    "            \"right\": None\n",
    "            },\n",
    "        \"right\": \n",
    "            {\n",
    "            \"field\": \"class\",\n",
    "            \"threshold\": 1,\n",
    "            \"left\": None,\n",
    "            \"right\": None\n",
    "            }\n",
    "    },\n",
    "    \"right\": \n",
    "        {\n",
    "        \"field\": \"income\",\n",
    "        \"threshold\": 70,\n",
    "        \"left\": \n",
    "            {\n",
    "            \"field\": \"class\",\n",
    "            \"threshold\": 0,\n",
    "            \"left\": None,\n",
    "            \"right\": None\n",
    "            },\n",
    "        \"right\": \n",
    "            {\n",
    "            \"field\": \"class\",\n",
    "            \"threshold\": 1,\n",
    "            \"left\": None,\n",
    "            \"right\": None\n",
    "        }\n",
    "    }\n",
    "}\n",
    "\n",
    "dt = DTree(node_dicts)\n",
    "dt.dump()"
   ]
  },
  {
   "cell_type": "code",
   "execution_count": 75,
   "id": "according-production",
   "metadata": {},
   "outputs": [
    {
     "name": "stdout",
     "output_type": "stream",
     "text": [
      "amount <= 200\n",
      "  income <= 35\n",
      "    class=0\n",
      "    class=1\n",
      "  income <= 70\n",
      "    class=0\n",
      "    class=1\n"
     ]
    }
   ],
   "source": [
    "tree_reader = ZippedCSVReader(\"trees.zip\")\n",
    "dt = DTree(tree_reader.load_json(\"simple.json\"))\n",
    "dt.dump()"
   ]
  },
  {
   "cell_type": "code",
   "execution_count": 76,
   "id": "muslim-glossary",
   "metadata": {},
   "outputs": [
    {
     "data": {
      "text/plain": [
       "61"
      ]
     },
     "execution_count": 76,
     "metadata": {},
     "output_type": "execute_result"
    }
   ],
   "source": [
    "tree_reader = ZippedCSVReader(\"trees.zip\")\n",
    "dt = DTree(tree_reader.load_json(\"good.json\"))\n",
    "dt.node_count()"
   ]
  },
  {
   "cell_type": "code",
   "execution_count": 77,
   "id": "fabulous-bracket",
   "metadata": {},
   "outputs": [
    {
     "data": {
      "text/plain": [
       "True"
      ]
     },
     "execution_count": 77,
     "metadata": {},
     "output_type": "execute_result"
    }
   ],
   "source": [
    "# individual part \n",
    "#predict method \n",
    "tree_reader = ZippedCSVReader(\"trees.zip\")\n",
    "dt = DTree(tree_reader.load_json(\"simple.json\"))\n",
    "loan = Loan(40, \"Home improvement\", \"Asian\", 120, \"approve\")\n",
    "dt.predict(loan)"
   ]
  },
  {
   "cell_type": "code",
   "execution_count": 105,
   "id": "eleven-finland",
   "metadata": {},
   "outputs": [],
   "source": [
    "#Bias Testing\n",
    "\n",
    "def bias_test(bank, predictor, race_override):\n",
    "    same=0\n",
    "    diff=0\n",
    "    for i in bank.loans():    # use bank to iterate over loans with loans\n",
    "        prediction=predictor.predict(i)\n",
    "#         amount=i.amount\n",
    "        \n",
    "#         purpose = i.purpose\n",
    "       \n",
    "#         income = i.income, \n",
    "#         decision = i.decision\n",
    "#         race = race_override \n",
    "\n",
    "# modify the loan, changing the race of applicant to race_override\n",
    "        \n",
    "#         loan_mod= Loan(amount,purpose,race,income,decision)\n",
    "\n",
    "\n",
    "#????why above won't work??? I have to put them in the same parenthesis which looks too crowded??\n",
    "       \n",
    "        loan_mod=Loan(amount=i.amount,purpose=i.purpose,race=race_override,income=loan.income,decision=loan.decision)\n",
    "        \n",
    "        prediction1=predictor.predict(loan_mod)\n",
    "        \n",
    "        if prediction!=prediction1:\n",
    "            diff+=1\n",
    "            \n",
    "        else:\n",
    "            same+=1\n",
    "    \n",
    "    return    (diff/(diff+same))*100\n",
    "            \n",
    "        \n",
    "    # at the end, return the percentage of cases where the predictor gave a different result after the race was changed\n",
    "                                                 \n",
    "\n",
    "    \n",
    "    \n",
    "\n",
    "\n",
    "\n"
   ]
  },
  {
   "cell_type": "code",
   "execution_count": null,
   "id": "gentle-lesbian",
   "metadata": {},
   "outputs": [],
   "source": []
  },
  {
   "cell_type": "code",
   "execution_count": 106,
   "id": "representative-spanish",
   "metadata": {},
   "outputs": [
    {
     "name": "stdout",
     "output_type": "stream",
     "text": [
      "41.123833757421544\n"
     ]
    }
   ],
   "source": [
    "b = Bank(None, ZippedCSVReader(\"loans.zip\"))\n",
    "dt = DTree(ZippedCSVReader(\"trees.zip\").load_json(\"bad.json\"))\n",
    "bias_percent = bias_test(b, dt, \"Black or African American\")\n",
    "print(bias_percent)"
   ]
  },
  {
   "cell_type": "code",
   "execution_count": null,
   "id": "gothic-invasion",
   "metadata": {},
   "outputs": [],
   "source": []
  }
 ],
 "metadata": {
  "kernelspec": {
   "display_name": "Python 3",
   "language": "python",
   "name": "python3"
  },
  "language_info": {
   "codemirror_mode": {
    "name": "ipython",
    "version": 3
   },
   "file_extension": ".py",
   "mimetype": "text/x-python",
   "name": "python",
   "nbconvert_exporter": "python",
   "pygments_lexer": "ipython3",
   "version": "3.6.9"
  }
 },
 "nbformat": 4,
 "nbformat_minor": 5
}
